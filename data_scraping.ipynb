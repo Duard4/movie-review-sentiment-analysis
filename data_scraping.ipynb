{
 "cells": [
  {
   "cell_type": "code",
   "execution_count": 12,
   "metadata": {},
   "outputs": [],
   "source": [
    "link = 'https://www.imdb.com/search/title/?user_rating=2,4&num_votes=4000,&sort=user_rating,asc'\n",
    "title_link_class = 'ipc-title-link-wrapper'\n",
    "reviews_link_class = 'isReview'\n",
    "text_div = 'ipc-html-content-inner-div'\n",
    "spoiler = 'Expand Spoiler' #aria-label\n",
    "more_btn = 'ipc-btn ipc-btn--single-padding ipc-btn--center-align-content ipc-btn--default-height ipc-btn--core-base ipc-btn--theme-base ipc-btn--button-radius ipc-btn--on-accent2 ipc-text-button ipc-see-more__button'\n",
    "stars = 'ipc-rating-star--rating'"
   ]
  },
  {
   "cell_type": "code",
   "execution_count": null,
   "metadata": {},
   "outputs": [],
   "source": [
    "from selenium import webdriver\n",
    "from selenium.webdriver.common.by import By\n",
    "from selenium.webdriver.common.action_chains import ActionChains\n",
    "from selenium.webdriver.support.ui import WebDriverWait\n",
    "from selenium.webdriver.support import expected_conditions as EC\n",
    "import time\n",
    "import pandas as pd\n",
    "\n",
    "# Setup the WebDriver\n",
    "driver = webdriver.Chrome()  \n",
    "driver.get(link)\n",
    "wait = WebDriverWait(driver, 1)\n",
    "\n",
    "# Step 1: Load more movies\n",
    "for _ in range(5):  # Load more movies 5 times\n",
    "    try:\n",
    "        more_btn = wait.until(EC.element_to_be_clickable((By.CLASS_NAME, more_btn)))\n",
    "        more_btn.click()\n",
    "        time.sleep(1)  # Give time for new movies to load\n",
    "    except Exception as e:\n",
    "        print(\"Error loading more movies:\", e)\n",
    "        break\n"
   ]
  },
  {
   "cell_type": "code",
   "execution_count": 14,
   "metadata": {},
   "outputs": [
    {
     "name": "stdout",
     "output_type": "stream",
     "text": [
      "['https://www.imdb.com/title/tt0804492/?ref_=sr_t_1', 'https://www.imdb.com/title/tt19857862/?ref_=sr_t_2', 'https://www.imdb.com/title/tt7668842/?ref_=sr_t_3', 'https://www.imdb.com/title/tt5290620/?ref_=sr_t_4', 'https://www.imdb.com/title/tt0343788/?ref_=sr_t_5', 'https://www.imdb.com/title/tt0317676/?ref_=sr_t_6', 'https://www.imdb.com/title/tt1595842/?ref_=sr_t_7', 'https://www.imdb.com/title/tt0367677/?ref_=sr_t_8', 'https://www.imdb.com/title/tt0096149/?ref_=sr_t_9', 'https://www.imdb.com/title/tt0086026/?ref_=sr_t_10', 'https://www.imdb.com/title/tt0844029/?ref_=sr_t_11', 'https://www.imdb.com/title/tt2814362/?ref_=sr_t_12', 'https://www.imdb.com/title/tt1183733/?ref_=sr_t_13', 'https://www.imdb.com/title/tt0131550/?ref_=sr_t_14', 'https://www.imdb.com/title/tt0174917/?ref_=sr_t_15', 'https://www.imdb.com/title/tt0469999/?ref_=sr_t_16', 'https://www.imdb.com/title/tt16228146/?ref_=sr_t_17', 'https://www.imdb.com/title/tt7255568/?ref_=sr_t_18', 'https://www.imdb.com/title/tt0089280/?ref_=sr_t_19', 'https://www.imdb.com/title/tt0193524/?ref_=sr_t_20', 'https://www.imdb.com/title/tt0456014/?ref_=sr_t_21', 'https://www.imdb.com/title/tt0093405/?ref_=sr_t_22', 'https://www.imdb.com/title/tt8366590/?ref_=sr_t_23', 'https://www.imdb.com/title/tt1846444/?ref_=sr_t_24', 'https://www.imdb.com/title/tt0072666/?ref_=sr_t_25', 'https://www.imdb.com/title/tt0473024/?ref_=sr_t_26', 'https://www.imdb.com/title/tt4547120/?ref_=sr_t_27', 'https://www.imdb.com/title/tt17444636/?ref_=sr_t_28', 'https://www.imdb.com/title/tt0362165/?ref_=sr_t_29', 'https://www.imdb.com/title/tt0785077/?ref_=sr_t_30', 'https://www.imdb.com/title/tt0118836/?ref_=sr_t_31', 'https://www.imdb.com/title/tt0055946/?ref_=sr_t_32', 'https://www.imdb.com/title/tt0057181/?ref_=sr_t_33', 'https://www.imdb.com/title/tt1651323/?ref_=sr_t_34', 'https://www.imdb.com/title/tt11873440/?ref_=sr_t_35', 'https://www.imdb.com/title/tt0081693/?ref_=sr_t_36', 'https://www.imdb.com/title/tt0433349/?ref_=sr_t_37', 'https://www.imdb.com/title/tt1754700/?ref_=sr_t_38', 'https://www.imdb.com/title/tt3155734/?ref_=sr_t_39', 'https://www.imdb.com/title/tt1136683/?ref_=sr_t_40', 'https://www.imdb.com/title/tt0799949/?ref_=sr_t_41', 'https://www.imdb.com/title/tt31122323/?ref_=sr_t_42', 'https://www.imdb.com/title/tt0369226/?ref_=sr_t_43', 'https://www.imdb.com/title/tt1918886/?ref_=sr_t_44', 'https://www.imdb.com/title/tt0118589/?ref_=sr_t_45', 'https://www.imdb.com/title/tt0114658/?ref_=sr_t_46', 'https://www.imdb.com/title/tt1705773/?ref_=sr_t_47', 'https://www.imdb.com/title/tt6910020/?ref_=sr_t_48', 'https://www.imdb.com/title/tt1587807/?ref_=sr_t_49', 'https://www.imdb.com/title/tt0845424/?ref_=sr_t_50', 'https://www.imdb.com/title/tt1098327/?ref_=sr_t_51', 'https://www.imdb.com/title/tt14121726/?ref_=sr_t_52', 'https://www.imdb.com/title/tt0123366/?ref_=sr_t_53', 'https://www.imdb.com/title/tt3190448/?ref_=sr_t_54', 'https://www.imdb.com/title/tt0185183/?ref_=sr_t_55', 'https://www.imdb.com/title/tt11762434/?ref_=sr_t_56', 'https://www.imdb.com/title/tt0201844/?ref_=sr_t_57', 'https://www.imdb.com/title/tt2043757/?ref_=sr_t_58', 'https://www.imdb.com/title/tt1350498/?ref_=sr_t_59', 'https://www.imdb.com/title/tt10350922/?ref_=sr_t_60', 'https://www.imdb.com/title/tt1540767/?ref_=sr_t_61', 'https://www.imdb.com/title/tt2288050/?ref_=sr_t_62', 'https://www.imdb.com/title/tt6836772/?ref_=sr_t_63', 'https://www.imdb.com/title/tt10885444/?ref_=sr_t_64', 'https://www.imdb.com/title/tt0299930/?ref_=sr_t_65', 'https://www.imdb.com/title/tt0329200/?ref_=sr_t_66', 'https://www.imdb.com/title/tt0118665/?ref_=sr_t_67', 'https://www.imdb.com/title/tt0116839/?ref_=sr_t_68', 'https://www.imdb.com/title/tt11348232/?ref_=sr_t_69', 'https://www.imdb.com/title/tt4435072/?ref_=sr_t_70', 'https://www.imdb.com/title/tt1844770/?ref_=sr_t_71', 'https://www.imdb.com/title/tt1498870/?ref_=sr_t_72', 'https://www.imdb.com/title/tt0117550/?ref_=sr_t_73', 'https://www.imdb.com/title/tt0109376/?ref_=sr_t_74', 'https://www.imdb.com/title/tt0418627/?ref_=sr_t_75', 'https://www.imdb.com/title/tt0913951/?ref_=sr_t_76', 'https://www.imdb.com/title/tt5013984/?ref_=sr_t_77', 'https://www.imdb.com/title/tt2147365/?ref_=sr_t_78', 'https://www.imdb.com/title/tt0168172/?ref_=sr_t_79', 'https://www.imdb.com/title/tt1856010/?ref_=sr_t_80', 'https://www.imdb.com/title/tt7576210/?ref_=sr_t_80', 'https://www.imdb.com/title/tt1883367/?ref_=sr_t_81', 'https://www.imdb.com/title/tt12996154/?ref_=sr_t_82', 'https://www.imdb.com/title/tt0093072/?ref_=sr_t_83', 'https://www.imdb.com/title/tt1716747/?ref_=sr_t_84', 'https://www.imdb.com/title/tt13334578/?ref_=sr_t_85', 'https://www.imdb.com/title/tt12915716/?ref_=sr_t_86', 'https://www.imdb.com/title/tt0117350/?ref_=sr_t_87', 'https://www.imdb.com/title/tt0058548/?ref_=sr_t_88', 'https://www.imdb.com/title/tt1754811/?ref_=sr_t_89', 'https://www.imdb.com/title/tt0493424/?ref_=sr_t_90', 'https://www.imdb.com/title/tt0896036/?ref_=sr_t_91', 'https://www.imdb.com/title/tt2574698/?ref_=sr_t_92', 'https://www.imdb.com/title/tt1572311/?ref_=sr_t_93', 'https://www.imdb.com/title/tt0053241/?ref_=sr_t_94', 'https://www.imdb.com/title/tt0054333/?ref_=sr_t_95', 'https://www.imdb.com/title/tt0199481/?ref_=sr_t_96', 'https://www.imdb.com/title/tt0326983/?ref_=sr_t_97', 'https://www.imdb.com/title/tt0278259/?ref_=sr_t_98', 'https://www.imdb.com/title/tt1009017/?ref_=sr_t_99', 'https://www.imdb.com/title/tt1127884/?ref_=sr_t_100', 'https://www.imdb.com/title/tt0478737/?ref_=sr_t_101', 'https://www.imdb.com/title/tt14153790/?ref_=sr_t_102', 'https://www.imdb.com/title/tt22503144/?ref_=sr_t_102', 'https://www.imdb.com/title/tt14153790/?ref_=sr_t_103', 'https://www.imdb.com/title/tt26142818/?ref_=sr_t_103', 'https://www.imdb.com/title/tt5697572/?ref_=sr_t_104', 'https://www.imdb.com/title/tt1073498/?ref_=sr_t_105', 'https://www.imdb.com/title/tt0466342/?ref_=sr_t_106', 'https://www.imdb.com/title/tt0763304/?ref_=sr_t_107', 'https://www.imdb.com/title/tt1137996/?ref_=sr_t_108', 'https://www.imdb.com/title/tt0077834/?ref_=sr_t_109', 'https://www.imdb.com/title/tt9096108/?ref_=sr_t_110', 'https://www.imdb.com/title/tt6148376/?ref_=sr_t_111', 'https://www.imdb.com/title/tt0110169/?ref_=sr_t_112', 'https://www.imdb.com/title/tt0116165/?ref_=sr_t_113', 'https://www.imdb.com/title/tt3705822/?ref_=sr_t_114', 'https://www.imdb.com/title/tt0412523/?ref_=sr_t_115', 'https://www.imdb.com/title/tt0073396/?ref_=sr_t_116', 'https://www.imdb.com/title/tt4867110/?ref_=sr_t_117', 'https://www.imdb.com/title/tt3481544/?ref_=sr_t_118', 'https://www.imdb.com/title/tt25403492/?ref_=sr_t_119', 'https://www.imdb.com/title/tt11127256/?ref_=sr_t_120', 'https://www.imdb.com/title/tt4172402/?ref_=sr_t_121', 'https://www.imdb.com/title/tt6609088/?ref_=sr_t_122', 'https://www.imdb.com/title/tt19623240/?ref_=sr_t_123', 'https://www.imdb.com/title/tt21106646/?ref_=sr_t_124', 'https://www.imdb.com/title/tt1294969/?ref_=sr_t_125', 'https://www.imdb.com/title/tt1086761/?ref_=sr_t_126', 'https://www.imdb.com/title/tt17595094/?ref_=sr_t_127', 'https://www.imdb.com/title/tt0101615/?ref_=sr_t_128', 'https://www.imdb.com/title/tt9624766/?ref_=sr_t_129', 'https://www.imdb.com/title/tt9820556/?ref_=sr_t_130', 'https://www.imdb.com/title/tt7976208/?ref_=sr_t_131', 'https://www.imdb.com/title/tt1150934/?ref_=sr_t_132', 'https://www.imdb.com/title/tt1798695/?ref_=sr_t_133', 'https://www.imdb.com/title/tt0313597/?ref_=sr_t_134', 'https://www.imdb.com/title/tt13332610/?ref_=sr_t_135', 'https://www.imdb.com/title/tt23016788/?ref_=sr_t_136', 'https://www.imdb.com/title/tt1725047/?ref_=sr_t_137', 'https://www.imdb.com/title/tt0105643/?ref_=sr_t_138', 'https://www.imdb.com/title/tt0093300/?ref_=sr_t_139', 'https://www.imdb.com/title/tt0086987/?ref_=sr_t_140', 'https://www.imdb.com/title/tt0383222/?ref_=sr_t_141', 'https://www.imdb.com/title/tt0119576/?ref_=sr_t_142', 'https://www.imdb.com/title/tt0410332/?ref_=sr_t_143', 'https://www.imdb.com/title/tt0353324/?ref_=sr_t_144', 'https://www.imdb.com/title/tt0118539/?ref_=sr_t_145', 'https://www.imdb.com/title/tt13265876/?ref_=sr_t_146', 'https://www.imdb.com/title/tt1153546/?ref_=sr_t_147', 'https://www.imdb.com/title/tt0120207/?ref_=sr_t_148', 'https://www.imdb.com/title/tt12861508/?ref_=sr_t_149', 'https://www.imdb.com/title/tt0046248/?ref_=sr_t_150', 'https://www.imdb.com/title/tt5932368/?ref_=sr_t_151', 'https://www.imdb.com/title/tt7059844/?ref_=sr_t_152', 'https://www.imdb.com/title/tt0299981/?ref_=sr_t_153', 'https://www.imdb.com/title/tt0426615/?ref_=sr_t_154', 'https://www.imdb.com/title/tt0106257/?ref_=sr_t_155', 'https://www.imdb.com/title/tt0266747/?ref_=sr_t_156', 'https://www.imdb.com/title/tt1570619/?ref_=sr_t_157', 'https://www.imdb.com/title/tt3499424/?ref_=sr_t_158', 'https://www.imdb.com/title/tt9558612/?ref_=sr_t_159', 'https://www.imdb.com/title/tt7399138/?ref_=sr_t_160', 'https://www.imdb.com/title/tt0468999/?ref_=sr_t_161', 'https://www.imdb.com/title/tt0756703/?ref_=sr_t_162', 'https://www.imdb.com/title/tt1650433/?ref_=sr_t_163', 'https://www.imdb.com/title/tt0494501/?ref_=sr_t_164', 'https://www.imdb.com/title/tt21920936/?ref_=sr_t_165', 'https://www.imdb.com/title/tt0116756/?ref_=sr_t_166', 'https://www.imdb.com/title/tt2467046/?ref_=sr_t_167', 'https://www.imdb.com/title/tt12163074/?ref_=sr_t_168', 'https://www.imdb.com/title/tt0804452/?ref_=sr_t_169', 'https://www.imdb.com/title/tt0246894/?ref_=sr_t_170', 'https://www.imdb.com/title/tt11871764/?ref_=sr_t_171', 'https://www.imdb.com/title/tt11656172/?ref_=sr_t_172', 'https://www.imdb.com/title/tt0758781/?ref_=sr_t_173', 'https://www.imdb.com/title/tt3526286/?ref_=sr_t_174', 'https://www.imdb.com/title/tt1767319/?ref_=sr_t_175', 'https://www.imdb.com/title/tt1194271/?ref_=sr_t_176', 'https://www.imdb.com/title/tt5235880/?ref_=sr_t_177', 'https://www.imdb.com/title/tt1038685/?ref_=sr_t_178', 'https://www.imdb.com/title/tt1988781/?ref_=sr_t_179', 'https://www.imdb.com/title/tt4937114/?ref_=sr_t_180', 'https://www.imdb.com/title/tt1699513/?ref_=sr_t_181', 'https://www.imdb.com/title/tt1343704/?ref_=sr_t_182', 'https://www.imdb.com/title/tt1728973/?ref_=sr_t_183', 'https://www.imdb.com/title/tt0969653/?ref_=sr_t_184', 'https://www.imdb.com/title/tt0451284/?ref_=sr_t_185', 'https://www.imdb.com/title/tt1431240/?ref_=sr_t_186', 'https://www.imdb.com/title/tt0400426/?ref_=sr_t_187', 'https://www.imdb.com/title/tt0110647/?ref_=sr_t_188', 'https://www.imdb.com/title/tt0478125/?ref_=sr_t_189', 'https://www.imdb.com/title/tt2403029/?ref_=sr_t_190', 'https://www.imdb.com/title/tt5262792/?ref_=sr_t_191', 'https://www.imdb.com/title/tt0103923/?ref_=sr_t_192', 'https://www.imdb.com/title/tt7541720/?ref_=sr_t_193', 'https://www.imdb.com/title/tt0974583/?ref_=sr_t_194', 'https://www.imdb.com/title/tt1619880/?ref_=sr_t_195', 'https://www.imdb.com/title/tt2345613/?ref_=sr_t_196', 'https://www.imdb.com/title/tt0092532/?ref_=sr_t_197', 'https://www.imdb.com/title/tt7286966/?ref_=sr_t_198', 'https://www.imdb.com/title/tt8983220/?ref_=sr_t_199', 'https://www.imdb.com/title/tt0499487/?ref_=sr_t_200', 'https://www.imdb.com/title/tt4743226/?ref_=sr_t_201', 'https://www.imdb.com/title/tt2246549/?ref_=sr_t_202', 'https://www.imdb.com/title/tt8804580/?ref_=sr_t_203', 'https://www.imdb.com/title/tt0462244/?ref_=sr_t_204', 'https://www.imdb.com/title/tt6593054/?ref_=sr_t_205', 'https://www.imdb.com/title/tt1764366/?ref_=sr_t_206', 'https://www.imdb.com/title/tt2610768/?ref_=sr_t_207', 'https://www.imdb.com/title/tt10247678/?ref_=sr_t_208', 'https://www.imdb.com/title/tt2976182/?ref_=sr_t_209', 'https://www.imdb.com/title/tt6616074/?ref_=sr_t_210', 'https://www.imdb.com/title/tt15281656/?ref_=sr_t_211', 'https://www.imdb.com/title/tt1189383/?ref_=sr_t_212', 'https://www.imdb.com/title/tt10886166/?ref_=sr_t_213', 'https://www.imdb.com/title/tt5690360/?ref_=sr_t_214', 'https://www.imdb.com/title/tt2724064/?ref_=sr_t_215', 'https://www.imdb.com/title/tt0810913/?ref_=sr_t_216', 'https://www.imdb.com/title/tt7608028/?ref_=sr_t_217', 'https://www.imdb.com/title/tt14577300/?ref_=sr_t_218', 'https://www.imdb.com/title/tt0065832/?ref_=sr_t_219', 'https://www.imdb.com/title/tt0313038/?ref_=sr_t_220', 'https://www.imdb.com/title/tt0073043/?ref_=sr_t_221', 'https://www.imdb.com/title/tt5737536/?ref_=sr_t_222', 'https://www.imdb.com/title/tt12528166/?ref_=sr_t_223', 'https://www.imdb.com/title/tt2025667/?ref_=sr_t_224', 'https://www.imdb.com/title/tt1411664/?ref_=sr_t_225', 'https://www.imdb.com/title/tt1499249/?ref_=sr_t_226', 'https://www.imdb.com/title/tt7461372/?ref_=sr_t_227', 'https://www.imdb.com/title/tt18394428/?ref_=sr_t_228', 'https://www.imdb.com/title/tt0411806/?ref_=sr_t_229', 'https://www.imdb.com/title/tt0411805/?ref_=sr_t_230', 'https://www.imdb.com/title/tt8361196/?ref_=sr_t_231', 'https://www.imdb.com/title/tt1604560/?ref_=sr_t_232', 'https://www.imdb.com/title/tt0091934/?ref_=sr_t_233', 'https://www.imdb.com/title/tt7296862/?ref_=sr_t_234', 'https://www.imdb.com/title/tt3743126/?ref_=sr_t_235', 'https://www.imdb.com/title/tt0165494/?ref_=sr_t_236', 'https://www.imdb.com/title/tt4184878/?ref_=sr_t_237', 'https://www.imdb.com/title/tt0490196/?ref_=sr_t_238', 'https://www.imdb.com/title/tt11112526/?ref_=sr_t_239', 'https://www.imdb.com/title/tt7052270/?ref_=sr_t_240', 'https://www.imdb.com/title/tt1171709/?ref_=sr_t_241', 'https://www.imdb.com/title/tt5842616/?ref_=sr_t_242', 'https://www.imdb.com/title/tt0404090/?ref_=sr_t_243', 'https://www.imdb.com/title/tt19289040/?ref_=sr_t_244', 'https://www.imdb.com/title/tt7851428/?ref_=sr_t_245', 'https://www.imdb.com/title/tt0427323/?ref_=sr_t_246', 'https://www.imdb.com/title/tt0284767/?ref_=sr_t_247', 'https://www.imdb.com/title/tt3735332/?ref_=sr_t_248', 'https://www.imdb.com/title/tt0092455/?ref_=sr_t_249', 'https://www.imdb.com/title/tt0708772/?ref_=sr_t_249', 'https://www.imdb.com/title/tt0092325/?ref_=sr_t_250', 'https://www.imdb.com/title/tt0110978/?ref_=sr_t_251', 'https://www.imdb.com/title/tt4877122/?ref_=sr_t_252', 'https://www.imdb.com/title/tt1666186/?ref_=sr_t_253', 'https://www.imdb.com/title/tt0327554/?ref_=sr_t_254', 'https://www.imdb.com/title/tt0295254/?ref_=sr_t_255', 'https://www.imdb.com/title/tt0469111/?ref_=sr_t_256', 'https://www.imdb.com/title/tt0295427/?ref_=sr_t_257', 'https://www.imdb.com/title/tt0095560/?ref_=sr_t_258', 'https://www.imdb.com/title/tt0329028/?ref_=sr_t_259', 'https://www.imdb.com/title/tt15837458/?ref_=sr_t_260', 'https://www.imdb.com/title/tt0322389/?ref_=sr_t_261', 'https://www.imdb.com/title/tt0364376/?ref_=sr_t_262', 'https://www.imdb.com/title/tt10739666/?ref_=sr_t_263', 'https://www.imdb.com/title/tt10338160/?ref_=sr_t_264', 'https://www.imdb.com/title/tt1659216/?ref_=sr_t_265', 'https://www.imdb.com/title/tt1001562/?ref_=sr_t_266', 'https://www.imdb.com/title/tt0114188/?ref_=sr_t_267', 'https://www.imdb.com/title/tt8746404/?ref_=sr_t_268', 'https://www.imdb.com/title/tt1594972/?ref_=sr_t_269', 'https://www.imdb.com/title/tt0403935/?ref_=sr_t_270', 'https://www.imdb.com/title/tt1299440/?ref_=sr_t_271', 'https://www.imdb.com/title/tt1594917/?ref_=sr_t_272', 'https://www.imdb.com/title/tt0312700/?ref_=sr_t_273', 'https://www.imdb.com/title/tt0783518/?ref_=sr_t_274', 'https://www.imdb.com/title/tt0323531/?ref_=sr_t_275', 'https://www.imdb.com/title/tt2974050/?ref_=sr_t_276', 'https://www.imdb.com/title/tt6117702/?ref_=sr_t_277', 'https://www.imdb.com/title/tt6439558/?ref_=sr_t_278', 'https://www.imdb.com/title/tt10930586/?ref_=sr_t_279', 'https://www.imdb.com/title/tt3289080/?ref_=sr_t_280', 'https://www.imdb.com/title/tt13439744/?ref_=sr_t_281', 'https://www.imdb.com/title/tt12775836/?ref_=sr_t_282', 'https://www.imdb.com/title/tt7016936/?ref_=sr_t_283', 'https://www.imdb.com/title/tt15079460/?ref_=sr_t_283', 'https://www.imdb.com/title/tt0795461/?ref_=sr_t_284', 'https://www.imdb.com/title/tt0115624/?ref_=sr_t_285', 'https://www.imdb.com/title/tt0083170/?ref_=sr_t_286', 'https://www.imdb.com/title/tt10481868/?ref_=sr_t_287', 'https://www.imdb.com/title/tt0327643/?ref_=sr_t_288', 'https://www.imdb.com/title/tt4667094/?ref_=sr_t_289', 'https://www.imdb.com/title/tt3138104/?ref_=sr_t_290', 'https://www.imdb.com/title/tt0094118/?ref_=sr_t_291', 'https://www.imdb.com/title/tt3053228/?ref_=sr_t_292', 'https://www.imdb.com/title/tt0110857/?ref_=sr_t_293', 'https://www.imdb.com/title/tt8031422/?ref_=sr_t_294', 'https://www.imdb.com/title/tt0254871/?ref_=sr_t_295', 'https://www.imdb.com/title/tt0348894/?ref_=sr_t_296', 'https://www.imdb.com/title/tt5656994/?ref_=sr_t_297', 'https://www.imdb.com/title/tt0086325/?ref_=sr_t_298', 'https://www.imdb.com/title/tt2308733/?ref_=sr_t_299', 'https://www.imdb.com/title/tt7086706/?ref_=sr_t_300', 'https://www.imdb.com/title/tt0093227/?ref_=sr_t_301', 'https://www.imdb.com/title/tt14412366/?ref_=sr_t_302', 'https://www.imdb.com/title/tt12335692/?ref_=sr_t_303', 'https://www.imdb.com/title/tt0301454/?ref_=sr_t_304', 'https://www.imdb.com/title/tt0177625/?ref_=sr_t_305', 'https://www.imdb.com/title/tt20414228/?ref_=sr_t_306', 'https://www.imdb.com/title/tt2325518/?ref_=sr_t_307', 'https://www.imdb.com/title/tt0372873/?ref_=sr_t_308', 'https://www.imdb.com/title/tt0157262/?ref_=sr_t_309', 'https://www.imdb.com/title/tt0462395/?ref_=sr_t_310', 'https://www.imdb.com/title/tt0196158/?ref_=sr_t_311', 'https://www.imdb.com/title/tt3569356/?ref_=sr_t_312', 'https://www.imdb.com/title/tt0203408/?ref_=sr_t_313', 'https://www.imdb.com/title/tt2268573/?ref_=sr_t_314', 'https://www.imdb.com/title/tt8955940/?ref_=sr_t_315', 'https://www.imdb.com/title/tt21326658/?ref_=sr_t_316', 'https://www.imdb.com/title/tt0373908/?ref_=sr_t_317', 'https://www.imdb.com/title/tt10047958/?ref_=sr_t_318', 'https://www.imdb.com/title/tt7974772/?ref_=sr_t_319', 'https://www.imdb.com/title/tt1579232/?ref_=sr_t_320', 'https://www.imdb.com/title/tt2576450/?ref_=sr_t_321', 'https://www.imdb.com/title/tt4269310/?ref_=sr_t_322', 'https://www.imdb.com/title/tt10342228/?ref_=sr_t_323', 'https://www.imdb.com/title/tt8923396/?ref_=sr_t_324', 'https://www.imdb.com/title/tt5427032/?ref_=sr_t_325', 'https://www.imdb.com/title/tt3781762/?ref_=sr_t_326', 'https://www.imdb.com/title/tt6990206/?ref_=sr_t_327', 'https://www.imdb.com/title/tt26693803/?ref_=sr_t_328', 'https://www.imdb.com/title/tt27785645/?ref_=sr_t_328', 'https://www.imdb.com/title/tt0368226/?ref_=sr_t_329', 'https://www.imdb.com/title/tt8712204/?ref_=sr_t_330', 'https://www.imdb.com/title/tt0367093/?ref_=sr_t_331', 'https://www.imdb.com/title/tt30007864/?ref_=sr_t_332', 'https://www.imdb.com/title/tt1185266/?ref_=sr_t_333', 'https://www.imdb.com/title/tt1281973/?ref_=sr_t_334', 'https://www.imdb.com/title/tt0897361/?ref_=sr_t_335', 'https://www.imdb.com/title/tt0773264/?ref_=sr_t_336', 'https://www.imdb.com/title/tt1231277/?ref_=sr_t_337', 'https://www.imdb.com/title/tt0119707/?ref_=sr_t_338', 'https://www.imdb.com/title/tt0291502/?ref_=sr_t_339', 'https://www.imdb.com/title/tt1517489/?ref_=sr_t_340', 'https://www.imdb.com/title/tt1852770/?ref_=sr_t_341', 'https://www.imdb.com/title/tt9196192/?ref_=sr_t_342', 'https://www.imdb.com/title/tt11012066/?ref_=sr_t_343', 'https://www.imdb.com/title/tt1153706/?ref_=sr_t_344', 'https://www.imdb.com/title/tt4718304/?ref_=sr_t_345', 'https://www.imdb.com/title/tt28282872/?ref_=sr_t_346', 'https://www.imdb.com/title/tt0116861/?ref_=sr_t_347', 'https://www.imdb.com/title/tt1566154/?ref_=sr_t_348', 'https://www.imdb.com/title/tt1015999/?ref_=sr_t_349', 'https://www.imdb.com/title/tt7312940/?ref_=sr_t_350', 'https://www.imdb.com/title/tt0056405/?ref_=sr_t_351', 'https://www.imdb.com/title/tt0829176/?ref_=sr_t_352', 'https://www.imdb.com/title/tt26258488/?ref_=sr_t_353', 'https://www.imdb.com/title/tt0825283/?ref_=sr_t_354', 'https://www.imdb.com/title/tt11423214/?ref_=sr_t_355', 'https://www.imdb.com/title/tt7721946/?ref_=sr_t_356', 'https://www.imdb.com/title/tt0845088/?ref_=sr_t_357', 'https://www.imdb.com/title/tt6988116/?ref_=sr_t_358', 'https://www.imdb.com/title/tt5323298/?ref_=sr_t_359', 'https://www.imdb.com/title/tt8809652/?ref_=sr_t_360', 'https://www.imdb.com/title/tt13439476/?ref_=sr_t_361', 'https://www.imdb.com/title/tt9592496/?ref_=sr_t_362', 'https://www.imdb.com/title/tt4007558/?ref_=sr_t_363', 'https://www.imdb.com/title/tt0770810/?ref_=sr_t_364', 'https://www.imdb.com/title/tt7642500/?ref_=sr_t_365', 'https://www.imdb.com/title/tt4898564/?ref_=sr_t_366', 'https://www.imdb.com/title/tt2062661/?ref_=sr_t_367', 'https://www.imdb.com/title/tt1451763/?ref_=sr_t_368', 'https://www.imdb.com/title/tt14403632/?ref_=sr_t_369', 'https://www.imdb.com/title/tt7535666/?ref_=sr_t_370', 'https://www.imdb.com/title/tt12839816/?ref_=sr_t_371', 'https://www.imdb.com/title/tt12311866/?ref_=sr_t_372', 'https://www.imdb.com/title/tt0432291/?ref_=sr_t_373', 'https://www.imdb.com/title/tt0094074/?ref_=sr_t_374', 'https://www.imdb.com/title/tt0190374/?ref_=sr_t_375', 'https://www.imdb.com/title/tt0283877/?ref_=sr_t_376', 'https://www.imdb.com/title/tt0085750/?ref_=sr_t_377', 'https://www.imdb.com/title/tt7959500/?ref_=sr_t_378', 'https://www.imdb.com/title/tt0158622/?ref_=sr_t_379', 'https://www.imdb.com/title/tt0120185/?ref_=sr_t_380', 'https://www.imdb.com/title/tt3832096/?ref_=sr_t_381', 'https://www.imdb.com/title/tt0089308/?ref_=sr_t_382', 'https://www.imdb.com/title/tt10279472/?ref_=sr_t_383', 'https://www.imdb.com/title/tt0806147/?ref_=sr_t_384', 'https://www.imdb.com/title/tt0161634/?ref_=sr_t_385', 'https://www.imdb.com/title/tt14656632/?ref_=sr_t_386', 'https://www.imdb.com/title/tt1730704/?ref_=sr_t_387', 'https://www.imdb.com/title/tt0891592/?ref_=sr_t_388', 'https://www.imdb.com/title/tt0415160/?ref_=sr_t_389', 'https://www.imdb.com/title/tt0084316/?ref_=sr_t_390', 'https://www.imdb.com/title/tt0076809/?ref_=sr_t_391', 'https://www.imdb.com/title/tt0203425/?ref_=sr_t_392', 'https://www.imdb.com/title/tt0028346/?ref_=sr_t_393', 'https://www.imdb.com/title/tt0120974/?ref_=sr_t_394', 'https://www.imdb.com/title/tt0120389/?ref_=sr_t_395', 'https://www.imdb.com/title/tt1781896/?ref_=sr_t_396', 'https://www.imdb.com/title/tt0308208/?ref_=sr_t_397', 'https://www.imdb.com/title/tt0435665/?ref_=sr_t_398', 'https://www.imdb.com/title/tt1241330/?ref_=sr_t_399', 'https://www.imdb.com/title/tt5493706/?ref_=sr_t_400']\n"
     ]
    }
   ],
   "source": [
    "\n",
    "# Step 2: Collect movie links\n",
    "movies = driver.find_elements(By.CLASS_NAME, title_link_class)\n",
    "movie_links = [movie.get_attribute('href') for movie in movies]\n",
    "print(movie_links)"
   ]
  },
  {
   "cell_type": "code",
   "execution_count": 15,
   "metadata": {},
   "outputs": [
    {
     "data": {
      "text/plain": [
       "406"
      ]
     },
     "execution_count": 15,
     "metadata": {},
     "output_type": "execute_result"
    }
   ],
   "source": [
    "len(movie_links)\n"
   ]
  },
  {
   "cell_type": "code",
   "execution_count": null,
   "metadata": {},
   "outputs": [],
   "source": [
    "\n",
    "\n",
    "# Initialize lists to store data\n",
    "titles = []\n",
    "reviews = []\n",
    "ratings = []\n",
    "\n",
    "# Visit each moviexecute_scripte page and collect reviews\n",
    "for movie_link in movie_links:\n",
    "    driver.get(movie_link)\n",
    "    time.sleep(1)  # Wait for movie page to load\n",
    "\n",
    "    # Navigate to the reviews page\n",
    "    try:\n",
    "        # driver.(\"window.scrollTo(0, document.body.scrollHeight * 0.2);\")\n",
    "        review_link = wait.until(EC.presence_of_element_located((By.XPATH, \"//a[contains(@href, '/reviews/') and contains(@class, 'isReview')]\")))\n",
    "        review_link.click()\n",
    "        time.sleep(1)\n",
    "\n",
    "        # Locate all review cards\n",
    "        review_cards = driver.find_elements(By.CSS_SELECTOR, 'div[data-testid=\"review-card-parent\"]')\n",
    "\n",
    "        # Collect up to 20 reviews\n",
    "        for i, review_card in enumerate(review_cards[:40]):\n",
    "            try:\n",
    "                # Get the star rating if available\n",
    "                try:\n",
    "                    rating = review_card.find_element(By.CLASS_NAME, 'ipc-rating-star--rating').text\n",
    "                except:\n",
    "                    rating = 'No rating'  # If no rating is present\n",
    "\n",
    "                # Expand spoiler if the button is present\n",
    "                try:\n",
    "                    spoiler_button = review_card.find_element(By.CLASS_NAME, 'review-spoiler-button')\n",
    "                    spoiler_button.click()\n",
    "                    time.sleep(0.2)  # Allow time for text to load\n",
    "                except:\n",
    "                    pass  # If no spoiler button is present, continue\n",
    "\n",
    "                # Extract the full review text\n",
    "                review_text = review_card.find_element(By.CLASS_NAME, 'ipc-html-content-inner-div').text\n",
    "\n",
    "                # Save data\n",
    "                titles.append(driver.title.split(\" - \")[0])  # Movie title\n",
    "                reviews.append(review_text)\n",
    "                ratings.append(rating)\n",
    "                print(i, \": \", review_text[:10])\n",
    "\n",
    "            except Exception as e:\n",
    "                print(f\"Error processing review {i+1} on {movie_link}: {e}\")\n",
    "                continue\n",
    "\n",
    "    except Exception as e:\n",
    "        print(f\"Couldn't find reviews link for {movie_link}: {e}\")\n",
    "        continue\n",
    "\n",
    "# Save data to Excel\n",
    "data = {\n",
    "    'Title': titles,\n",
    "    'Review': reviews,\n",
    "    'Stars': ratings\n",
    "}\n",
    "df = pd.DataFrame(data)\n",
    "df.to_excel('imdb_reviews_negative_2_4.xlsx', index=False)\n",
    "\n",
    "# Close the WebDriver\n",
    "driver.quit()\n"
   ]
  },
  {
   "cell_type": "code",
   "execution_count": 8,
   "metadata": {},
   "outputs": [],
   "source": [
    "ata = {\n",
    "    'Title': titles,\n",
    "    'Review': reviews,\n",
    "    'Stars': ratings\n",
    "}\n",
    "df = pd.DataFrame(data)\n",
    "df.to_excel('imdb_reviews_3.xlsx', index=False)\n",
    "\n",
    "# Close the WebDriver\n",
    "driver.quit()"
   ]
  },
  {
   "cell_type": "code",
   "execution_count": null,
   "metadata": {},
   "outputs": [],
   "source": [
    "import pandas as pd\n",
    "from deep_translator import GoogleTranslator\n",
    "\n",
    "# Load the Excel file\n",
    "file_path = 'imdb_reviews.xlsx'  # Path to your Excel file\n",
    "df = pd.read_excel(file_path)\n",
    "\n",
    "# Initialize the translator\n",
    "translator = GoogleTranslator(source='en', target='uk')\n",
    "\n",
    "# Translate each review and title\n",
    "df['Title'] = df['Title'].apply(lambda x: translator.translate(x) if pd.notnull(x) else x)\n",
    "df['Review'] = df['Review'].apply(lambda x: translator.translate(x) if pd.notnull(x) else x)\n",
    "\n",
    "# Save the translated file\n",
    "translated_file_path = 'imdb_reviews_ukrainian.xlsx'\n",
    "df.to_excel(translated_file_path, index=False)\n",
    "\n",
    "print(f\"Translation completed and saved to {translated_file_path}\")\n"
   ]
  },
  {
   "cell_type": "code",
   "execution_count": null,
   "metadata": {},
   "outputs": [],
   "source": []
  }
 ],
 "metadata": {
  "kernelspec": {
   "display_name": "base",
   "language": "python",
   "name": "python3"
  },
  "language_info": {
   "codemirror_mode": {
    "name": "ipython",
    "version": 3
   },
   "file_extension": ".py",
   "mimetype": "text/x-python",
   "name": "python",
   "nbconvert_exporter": "python",
   "pygments_lexer": "ipython3",
   "version": "3.12.4"
  }
 },
 "nbformat": 4,
 "nbformat_minor": 2
}
